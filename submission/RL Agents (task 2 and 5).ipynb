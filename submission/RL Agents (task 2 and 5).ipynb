{
 "cells": [
  {
   "cell_type": "markdown",
   "metadata": {},
   "source": [
    "# 3806ICT Assignment\n",
    "Ken Quach - Yunpeng Huang - Kai Sato - Wui Theam Wong"
   ]
  },
  {
   "cell_type": "code",
   "execution_count": 1,
   "metadata": {},
   "outputs": [],
   "source": [
    "import random\n",
    "import math\n",
    "import numpy as np\n",
    "import sys\n",
    "import time\n",
    "\n",
    "import collections\n",
    "import matplotlib.pyplot as plt"
   ]
  },
  {
   "cell_type": "markdown",
   "metadata": {},
   "source": [
    "# Reinforcement Learning"
   ]
  },
  {
   "cell_type": "markdown",
   "metadata": {},
   "source": [
    "## Grid World"
   ]
  },
  {
   "cell_type": "code",
   "execution_count": 2,
   "metadata": {},
   "outputs": [],
   "source": [
    "# maze example\n",
    "\n",
    "class GridWorld:\n",
    "    \"\"\" Grid World environment\n",
    "            there are four actions (left, right, up, and down) to move an agent\n",
    "            In a grid, if it reaches a goal, it get 30 points of reward.\n",
    "            If it falls in a hole or moves out of the grid world, it gets -5.\n",
    "            Each step costs -1 point. \n",
    "\n",
    "        to test GridWorld, run the following sample codes:\n",
    "\n",
    "            env = GridWorld('grid.txt')\n",
    "\n",
    "            env.print_map()\n",
    "            print [2,3], env.check_state([2,3])\n",
    "            print [0,0], env.check_state([0,0])\n",
    "            print [3,4], env.check_state([3,4])\n",
    "            print [10,3], env.check_state([10,3])\n",
    "\n",
    "            env.init([0,0])\n",
    "            print env.next(1)  # right\n",
    "            print env.next(3)  # down\n",
    "            print env.next(0)  # left\n",
    "            print env.next(2)  # up\n",
    "            print env.next(2)  # up\n",
    "\n",
    "        Parameters\n",
    "        ==========\n",
    "        _map        ndarray\n",
    "                    string array read from a file input\n",
    "        _size       1d array\n",
    "                    the size of _map in ndarray\n",
    "        goal_pos    tuple\n",
    "                    the index for the goal location\n",
    "        _actions    list\n",
    "                    list of actions for 4 actions\n",
    "        _s          1d array\n",
    "                    current state\n",
    "    \"\"\"\n",
    "    def __init__(self, fn):\n",
    "        # read a map from a file\n",
    "        self._map = self.read_map(fn)\n",
    "        self._size = np.asarray(self._map.shape)\n",
    "        self.goal_pos = np.where(self._map == 'G')\n",
    "\n",
    "        # definition of actions (left, right, up, and down repectively)\n",
    "        self._actions = [[0, -1], [0, 1], [-1, 0], [1, 0]]\n",
    "        self._s = None\n",
    "\n",
    "    def get_cur_state(self):\n",
    "        return self._s\n",
    "\n",
    "    def get_size(self):\n",
    "        return self._size\n",
    "\n",
    "    # skip the last two line (those are coordinate of start)\n",
    "    def read_map(self, fn):\n",
    "        grid = []\n",
    "        f = open(fn,\"r\")\n",
    "        lines = f.readlines()\n",
    "        for line in lines[:-2]:\n",
    "            grid.append(list(line.strip()))\n",
    "        f.close()\n",
    "        return np.asarray(grid)\n",
    "\n",
    "    # Print the map\n",
    "    def print_map(self):\n",
    "        gridx = len(self._map) \n",
    "        gridy = len(self._map[0]) \n",
    "        \n",
    "        for i in range(0, gridy):\n",
    "            for j in range(0, gridx):\n",
    "                if (self._map[i][j] == 'u'):\n",
    "                    print(str(self._map[i][j]), end=\"   \")\n",
    "                elif (self._map[i][j] == 'c'):\n",
    "                    print(str(self._map[i][j]), end=\"   \")\n",
    "                else:\n",
    "                    print(str(self._map[i][j]), end=\"   \")\n",
    "            print('\\n')\n",
    "        \n",
    "    def check_state(self, s):\n",
    "        if isinstance(s, collections.Iterable) and len(s) == 2:\n",
    "            if s[0] < 0 or s[1] < 0 or\\\n",
    "               s[0] >= self._size[0] or s[1] >= self._size[1]:\n",
    "               return 'N'\n",
    "            return self._map[tuple(s)].upper()\n",
    "        else:\n",
    "            return 'F'  # wrong input\n",
    "\n",
    "    def init(self, state=None):\n",
    "        if state is None:\n",
    "            s = [0, 0]\n",
    "        else:\n",
    "            s = state\n",
    "\n",
    "        if self.check_state(s) == 'O':\n",
    "            self._s = np.asarray(state)\n",
    "        else:\n",
    "            raise ValueError(\"Invalid state for init\")\n",
    "\n",
    "    def next(self, a):\n",
    "        s1 = self._s + self._actions[a]\n",
    "        # state transition\n",
    "        curr = self.check_state(s1)\n",
    "        \n",
    "        if curr == 'H' or curr == 'N':\n",
    "            return -5\n",
    "        elif curr == 'F':\n",
    "            warnings.warn(\"invalid state \" + str(s1))\n",
    "            return -5\n",
    "        elif curr == 'G':\n",
    "            self._s = s1\n",
    "            return 30\n",
    "        else:\n",
    "            self._s = s1\n",
    "            return -1\n",
    "        \n",
    "    def is_goal(self):\n",
    "        return self.check_state(self._s) == 'G'\n",
    "            \n",
    "    def get_actions(self):\n",
    "        return self._actions"
   ]
  },
  {
   "cell_type": "code",
   "execution_count": 3,
   "metadata": {},
   "outputs": [
    {
     "name": "stdout",
     "output_type": "stream",
     "text": [
      "O   O   G   O   O   O   O   H   O   O   O   O   O   O   O   O   O   O   O   H   \n",
      "\n",
      "O   H   O   H   O   H   O   H   H   H   H   H   H   H   H   H   H   H   O   H   \n",
      "\n",
      "O   H   O   H   O   H   O   O   O   H   O   O   O   H   O   O   O   O   O   H   \n",
      "\n",
      "O   H   O   H   O   H   H   H   O   H   O   H   O   H   O   H   H   H   O   H   \n",
      "\n",
      "O   H   O   H   O   O   O   H   O   H   O   H   O   O   O   H   O   O   O   H   \n",
      "\n",
      "O   H   H   H   H   H   O   H   O   H   O   H   H   H   H   H   O   H   H   H   \n",
      "\n",
      "O   O   O   H   O   O   O   H   O   O   O   H   O   O   O   H   O   H   O   H   \n",
      "\n",
      "H   H   O   H   O   H   H   H   H   H   H   H   O   H   O   H   O   H   O   H   \n",
      "\n",
      "O   H   O   H   O   O   O   O   O   O   O   H   O   H   O   H   O   O   O   H   \n",
      "\n",
      "O   H   O   H   O   H   H   H   H   H   O   H   O   H   H   H   H   H   O   H   \n",
      "\n",
      "O   O   O   H   O   O   O   O   O   H   O   H   O   O   O   O   O   H   O   H   \n",
      "\n",
      "O   H   H   H   H   H   H   H   H   H   O   H   H   H   H   H   O   H   O   H   \n",
      "\n",
      "O   O   O   O   O   O   O   O   O   O   O   H   O   O   O   O   O   H   O   H   \n",
      "\n",
      "H   H   H   H   H   H   H   H   H   H   H   H   O   H   O   H   H   H   O   H   \n",
      "\n",
      "O   O   O   H   O   O   O   O   O   O   O   O   O   H   O   H   O   O   O   H   \n",
      "\n",
      "O   H   O   H   O   H   H   H   H   H   O   H   H   H   O   H   O   H   H   H   \n",
      "\n",
      "O   H   O   O   O   H   O   H   O   O   O   H   O   O   O   H   O   H   O   H   \n",
      "\n",
      "O   H   H   H   H   H   O   H   O   H   H   H   H   H   H   H   O   H   O   H   \n",
      "\n",
      "O   O   O   O   O   O   O   H   O   O   O   O   O   O   O   O   O   O   O   H   \n",
      "\n",
      "H   H   H   H   H   H   H   H   H   H   H   H   H   H   H   H   H   H   H   H   \n",
      "\n",
      "Grid size:  20   20\n"
     ]
    }
   ],
   "source": [
    "# Read the map from txt file\n",
    "env = GridWorld(\"grid.txt\")\n",
    "\n",
    "# if the map's size is considerable, then print to visualize\n",
    "if len(env._map) < 30 and len(env._map[0]) < 30:\n",
    "    env.print_map()\n",
    "\n",
    "print(\"Grid size: \", len(env._map), \" \", len(env._map[0]))"
   ]
  },
  {
   "cell_type": "code",
   "execution_count": 4,
   "metadata": {},
   "outputs": [],
   "source": [
    "# top-left to (0,0)\n",
    "def coord_convert(s, sz):\n",
    "    return [s[1], sz[0]-s[0]-1]"
   ]
  },
  {
   "cell_type": "markdown",
   "metadata": {},
   "source": [
    "## RL Agent"
   ]
  },
  {
   "cell_type": "code",
   "execution_count": 5,
   "metadata": {},
   "outputs": [],
   "source": [
    "class RLAgent: \n",
    "    \"\"\"\n",
    "        Reinforcement Learning Agent Model for training/testing\n",
    "        with Tabular function approximation\n",
    "        \n",
    "    \"\"\"\n",
    "    \n",
    "    def __init__(self, env):\n",
    "        self.env = env\n",
    "        self.size = env.get_size()\n",
    "        self.n_a = len(env.get_actions())\n",
    "        # self.Q table including the surrounding border\n",
    "        self.Q = np.zeros((self.size[0], self.size[1], self.n_a))\n",
    "        \n",
    "    def greedy(self, s):\n",
    "        return np.argmax(self.Q[s[0], s[1]])\n",
    "\n",
    "    def epsilon_greed(self, e,s):\n",
    "        if np.random.rand() < e:\n",
    "            return np.random.randint(self.n_a)\n",
    "        else:\n",
    "            return self.greedy(s)\n",
    "    \n",
    "    def train(self, start, **params):\n",
    "        \n",
    "        # parameters\n",
    "        gamma = params.pop('gamma', 0.99)\n",
    "        alpha = params.pop('alpha', 0.1)\n",
    "        epsilon= params.pop('epsilon', 0.1)\n",
    "        maxiter= params.pop('maxiter', 1000) \n",
    "        maxstep= params.pop('maxstep', 1000)\n",
    "        \n",
    "        # init self.Q matrix\n",
    "        self.Q[...] = 0\n",
    "        self.Q[self.env._map == 'H'] = -np.inf\n",
    "        \n",
    "        # online train\n",
    "        # rewards and step trace\n",
    "        rtrace = []\n",
    "        steps = []\n",
    "        for j in range(maxiter):\n",
    "\n",
    "            self.env.init(start)\n",
    "            s = self.env.get_cur_state()\n",
    "            # selection an action\n",
    "            a = self.epsilon_greed(epsilon, s)\n",
    "\n",
    "            rewards = []\n",
    "            trace = np.array(coord_convert(s, self.size))\n",
    "            # run simulation for max number of steps \n",
    "            for step in range(maxstep):\n",
    "                # move\n",
    "                r = self.env.next(a)\n",
    "                s1 = self.env.get_cur_state()\n",
    "                a1 = self.epsilon_greed(epsilon, s1)\n",
    "\n",
    "                rewards.append(r)\n",
    "                trace = np.vstack((trace, coord_convert(s1, self.size)))\n",
    "            \n",
    "                # update self.Q table \n",
    "                self.Q[s[0],s[1],a] += alpha*(r + gamma * np.max(self.Q[s1[0],s1[1],:]) - self.Q[s[0],s[1],a])\n",
    "                \n",
    "                if self.env.is_goal(): # reached the goal\n",
    "                    self.Q[s1[0], s1[1], a1] = 0\n",
    "                    break\n",
    "\n",
    "                s = s1\n",
    "                a = a1\n",
    "\n",
    "            rtrace.append(np.sum(rewards))\n",
    "            steps.append(step+1)\n",
    "        return rtrace, steps, trace # last trace of trajectory\n",
    "\n",
    "    def test(self, start, maxstep=1000):\n",
    "        env.init(start)\n",
    "        s = env.get_cur_state()\n",
    "        a = np.argmax(self.Q[s[0], s[1], :])\n",
    "        trace = np.array(coord_convert(s, self.size))\n",
    "        for step in range(maxstep):\n",
    "            env.next(a)\n",
    "            s1 = env.get_cur_state()\n",
    "            a1 = np.argmax(self.Q[s1[0], s1[1],:])\n",
    "            trace = np.vstack((trace, coord_convert(s1, self.size)))\n",
    "            if env.is_goal():  # reached the goal\n",
    "                break\n",
    "            a = a1\n",
    "        \n",
    "        return trace"
   ]
  },
  {
   "cell_type": "markdown",
   "metadata": {},
   "source": [
    "# Results"
   ]
  },
  {
   "cell_type": "markdown",
   "metadata": {},
   "source": [
    "### Show the direction of RL agents"
   ]
  },
  {
   "cell_type": "code",
   "execution_count": 6,
   "metadata": {},
   "outputs": [],
   "source": [
    "# Determine the direction of the RL agent.\n",
    "def direction(tracecurrent, tracenext):\n",
    "    if tracenext[0] < tracecurrent[0]:\n",
    "        print(\"go_left\", end='')\n",
    "    elif tracenext[0] > tracecurrent[0]:\n",
    "        print(\"go_right\", end='')\n",
    "    elif tracenext[1] > tracecurrent[1]:\n",
    "        print(\"go_up\", end='')\n",
    "    elif tracenext[1] < tracecurrent[1]:\n",
    "        print(\"go_down\", end='')\n",
    "    elif tracenext[0] == tracecurrent[0] and tracenext[1] == tracecurrent[1]:\n",
    "        print(\"idle\", end='')\n",
    "\n"
   ]
  },
  {
   "cell_type": "markdown",
   "metadata": {},
   "source": [
    "### Plotting tools"
   ]
  },
  {
   "cell_type": "code",
   "execution_count": 7,
   "metadata": {},
   "outputs": [],
   "source": [
    "### Plotting tools \n",
    "\n",
    "def plot_trace(agent, start, trace, title=\"test trajectory\"):\n",
    "    plt.plot(trace[:, 0], trace[:, 1], \"ko-\")\n",
    "    plt.text(env.goal_pos[1], agent.size[0]-env.goal_pos[0]-1, 'G')\n",
    "    plt.text(start[1], agent.size[0]-start[0]-1, 'S')\n",
    "    plt.xlim([0, agent.size[1]])\n",
    "    plt.ylim([0, agent.size[0]])\n",
    "    # Print left, right, up, and down based on the next position\n",
    "    print(\"Route Taken: \", end='')\n",
    "    for step in range(len(trace)-1):\n",
    "        previouspos = trace[step]\n",
    "        currentpos = trace[step+1] \n",
    "        direction(previouspos, currentpos)\n",
    "        if step != (len(trace)-2):\n",
    "            print(\"-> \", end='')\n",
    "    print(\"\\nSteps taken:\",len(trace) - 1)    \n",
    "\n",
    "\n",
    "def plot_train(agent, rtrace, steps, trace, start):\n",
    "\n",
    "    fig = plt.figure(figsize=(10,8))\n",
    "    ax = fig.add_subplot(221)\n",
    "    plt.plot(rtrace)\n",
    "    plt.ylabel(\"sum of rewards\")\n",
    "\n",
    "    ax1 = fig.add_subplot(222)\n",
    "    plt.plot(steps)\n",
    "    plt.ylabel(\"# steps\")\n",
    "\n",
    "    # contour plot for agent.Q\n",
    "    ax2 = fig.add_subplot(223)\n",
    "    xs = range(agent.size[1])\n",
    "    ys = range(agent.size[0])\n",
    "    maxQ = np.max(agent.Q, axis=2)\n",
    "    h_b = (maxQ==-np.inf)\n",
    "    maxQ[h_b] = 0\n",
    "    maxQ[h_b] = np.min(maxQ) - 100\n",
    "    cs = plt.contourf(xs, ys[::-1], maxQ)\n",
    "    plt.colorbar(cs)\n",
    "    plt.text(env.goal_pos[1], agent.size[0]-env.goal_pos[0]-1, 'G')\n",
    "    plt.text(start[1], agent.size[0]-start[0]-1, 'S')\n",
    "    plt.ylabel(\"max agent.Q\")\n",
    "\n",
    "    # plot traces\n",
    "    ax3 = fig.add_subplot(224)\n",
    "    plot_trace(agent, start, trace, \"trace of the last episode\")\n",
    "\n",
    "    plt.plot()"
   ]
  },
  {
   "cell_type": "markdown",
   "metadata": {},
   "source": [
    "### Training and Testing with GridWorld"
   ]
  },
  {
   "cell_type": "markdown",
   "metadata": {},
   "source": [
    "Get the coordinate of the start from text file"
   ]
  },
  {
   "cell_type": "code",
   "execution_count": 8,
   "metadata": {},
   "outputs": [
    {
     "name": "stdout",
     "output_type": "stream",
     "text": [
      "Start coord: [10, 14]\n"
     ]
    }
   ],
   "source": [
    "# get the coordinate of start from txt file\n",
    "f = open('grid.txt',\"r\")\n",
    "lines = f.readlines()\n",
    "f.close()\n",
    "start = list([int(lines[-2].strip()), int(lines[-1].strip())])\n",
    "print(\"Start coord:\",start)"
   ]
  },
  {
   "cell_type": "code",
   "execution_count": 9,
   "metadata": {
    "scrolled": true
   },
   "outputs": [
    {
     "name": "stderr",
     "output_type": "stream",
     "text": [
      "/Users/lunary/opt/anaconda3/lib/python3.7/site-packages/ipykernel_launcher.py:82: DeprecationWarning: Using or importing the ABCs from 'collections' instead of from 'collections.abc' is deprecated since Python 3.3,and in 3.9 it will stop working\n"
     ]
    },
    {
     "name": "stdout",
     "output_type": "stream",
     "text": [
      "Total computation time (training + testing):  4.0748701095581055\n"
     ]
    }
   ],
   "source": [
    "# start timer for training\n",
    "starttime = time.time()\n",
    "\n",
    "agent = RLAgent(env)\n",
    "start = [start[0],start[1]]\n",
    "rtrace, steps, trace = agent.train(start, \n",
    "                                   gamma=0.99, \n",
    "                                   alpha=0.1, \n",
    "                                   epsilon=0.1, \n",
    "                                   maxiter=100, \n",
    "                                   maxstep=40000)\n",
    "\n",
    "test_trace = agent.test(start)\n",
    "\n",
    "# end timer for training\n",
    "endtime = time.time() - starttime\n",
    "print(\"Total computation time (training + testing): \", endtime)\n"
   ]
  },
  {
   "cell_type": "markdown",
   "metadata": {},
   "source": [
    "### Visualisation of the result for training and testing"
   ]
  },
  {
   "cell_type": "code",
   "execution_count": 10,
   "metadata": {},
   "outputs": [
    {
     "name": "stdout",
     "output_type": "stream",
     "text": [
      "Time taken: 4.0748701095581055 seconds\n",
      "GRID SIZE:  X:  20 Y:  20\n",
      "Route Taken: go_right-> go_left-> go_left-> go_left-> go_up-> go_up-> go_up-> go_up-> go_right-> go_right-> go_down-> go_down-> idle-> idle-> idle-> go_up-> idle-> go_up-> go_left-> go_left-> go_down-> go_down-> go_down-> go_down-> go_right-> idle-> idle-> go_right-> go_right-> go_right-> go_left-> go_right-> go_down-> go_down-> idle-> idle-> go_left-> go_left-> go_right-> go_left-> go_down-> go_down-> idle-> idle-> go_down-> idle-> go_down-> go_left-> go_left-> go_right-> go_right-> go_up-> go_up-> go_up-> go_up-> go_left-> go_right-> go_left-> go_left-> go_down-> go_up-> go_right-> go_left-> go_down-> go_down-> go_left-> go_right-> go_up-> go_down-> go_up-> go_up-> go_right-> go_right-> go_down-> idle-> go_down-> go_down-> go_down-> go_left-> go_left-> go_right-> idle-> idle-> go_right-> go_up-> go_up-> go_up-> go_up-> go_right-> go_right-> go_up-> go_up-> go_down-> go_down-> go_left-> go_left-> go_down-> go_down-> go_down-> go_down-> idle-> idle-> go_left-> go_left-> go_right-> go_right-> go_up-> go_up-> go_up-> idle-> idle-> go_up-> go_left-> go_left-> go_down-> go_down-> go_left-> go_left-> go_right-> go_left-> go_down-> go_down-> go_up-> go_up-> go_left-> go_left-> go_left-> go_left-> go_left-> go_left-> go_down-> go_down-> go_left-> go_left-> go_up-> go_up-> go_left-> go_left-> go_down-> go_down-> go_down-> go_down-> go_up-> go_down-> go_right-> go_right-> go_right-> go_right-> go_left-> go_left-> go_left-> go_right-> go_right-> go_right-> go_right-> go_right-> go_up-> go_up-> go_down-> go_down-> go_left-> go_left-> go_right-> go_right-> go_up-> go_up-> go_down-> go_down-> idle-> go_left-> go_left-> go_left-> go_left-> go_left-> idle-> idle-> go_right-> go_right-> go_right-> go_right-> go_right-> go_up-> go_up-> idle-> idle-> go_down-> idle-> go_down-> go_left-> go_left-> go_left-> idle-> idle-> go_right-> go_right-> go_right-> go_up-> go_up-> go_down-> go_down-> idle-> idle-> go_left-> go_left-> go_left-> go_left-> go_left-> go_left-> go_right-> go_left-> go_up-> go_up-> go_up-> go_down-> go_down-> go_up-> go_up-> go_up-> idle-> idle-> go_right-> go_right-> go_down-> go_down-> go_right-> go_right-> go_left-> go_left-> go_up-> go_up-> idle-> idle-> go_left-> go_left-> idle-> go_down-> go_up-> go_right-> go_right-> go_left-> go_left-> go_down-> go_down-> idle-> go_down-> go_down-> go_right-> go_right-> go_right-> go_left-> go_left-> go_left-> go_up-> go_up-> go_up-> go_down-> go_up-> go_up-> go_right-> idle-> idle-> go_right-> go_down-> go_down-> go_right-> go_right-> idle-> go_up-> idle-> go_up-> go_right-> go_right-> go_right-> go_right-> go_right-> go_right-> go_down-> go_down-> go_left-> go_left-> go_down-> idle-> idle-> go_down-> go_right-> go_right-> go_left-> go_left-> go_up-> go_down-> go_right-> go_right-> go_right-> go_left-> go_right-> idle-> go_right-> go_right-> go_left-> go_left-> go_right-> go_right-> go_right-> idle-> go_right-> go_left-> go_left-> go_left-> idle-> idle-> go_right-> go_right-> go_right-> go_right-> go_left-> go_right-> go_right-> go_right-> go_up-> go_up-> go_down-> go_down-> go_left-> go_left-> go_up-> go_up-> idle-> idle-> go_down-> go_down-> go_right-> go_right-> go_up-> go_up-> go_down-> go_down-> go_left-> go_left-> go_up-> go_up-> go_up-> idle-> go_down-> go_up-> idle-> go_up-> go_down-> go_up-> idle-> go_right-> idle-> idle-> go_right-> go_left-> idle-> go_left-> go_right-> go_right-> go_left-> go_right-> go_up-> go_down-> go_up-> go_up-> go_down-> go_up-> go_up-> go_up-> go_up-> go_up-> go_up-> idle-> idle-> go_up-> go_down-> go_down-> go_left-> go_left-> go_up-> go_up-> go_up-> go_down-> go_up-> go_up-> go_down-> go_up-> go_right-> go_left-> go_right-> idle-> go_left-> go_down-> go_up-> idle-> go_down-> go_up-> go_right-> go_right-> go_up-> idle-> go_down-> go_up-> go_up-> go_left-> go_left-> go_left-> go_left-> go_right-> go_right-> go_left-> go_left-> go_down-> go_down-> go_left-> go_left-> go_up-> idle-> idle-> go_up-> go_left-> go_left-> go_down-> go_down-> go_down-> go_down-> go_left-> go_left-> go_up-> go_up-> go_up-> go_up-> go_left-> go_left-> go_up-> go_up-> go_left-> idle-> go_left-> go_left-> go_left\n",
      "Steps taken: 440\n"
     ]
    },
    {
     "data": {
      "image/png": "[encoded data removed]",
      "text/plain": [
       "<Figure size 720x576 with 5 Axes>"
      ]
     },
     "metadata": {
      "needs_background": "light"
     },
     "output_type": "display_data"
    }
   ],
   "source": [
    "# Print time taken to compute path, the grid size (x and y), path taken, and the statistics of the RL agent's decision making.\n",
    "print(\"Time taken:\", endtime, \"seconds\")\n",
    "print(\"GRID SIZE: \", \"X: \", len(env._map), \"Y: \", len(env._map[0]))\n",
    "plot_train(agent, rtrace, steps, trace, start)"
   ]
  }
 ],
 "metadata": {
  "kernelspec": {
   "display_name": "Python 3",
   "language": "python",
   "name": "python3"
  },
  "language_info": {
   "codemirror_mode": {
    "name": "ipython",
    "version": 3
   },
   "file_extension": ".py",
   "mimetype": "text/x-python",
   "name": "python",
   "nbconvert_exporter": "python",
   "pygments_lexer": "ipython3",
   "version": "3.7.6"
  }
 },
 "nbformat": 4,
 "nbformat_minor": 4
}
